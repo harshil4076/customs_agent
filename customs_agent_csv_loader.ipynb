{
 "cells": [
  {
   "cell_type": "code",
   "execution_count": null,
   "id": "8b07dad1-e5c8-4cfd-9435-2ececa46c002",
   "metadata": {
    "editable": true,
    "slideshow": {
     "slide_type": ""
    },
    "tags": []
   },
   "outputs": [
    {
     "name": "stderr",
     "output_type": "stream",
     "text": [
      "No default IOStream has been set, defaulting to IOConsole.\n",
      "No default IOStream has been set, defaulting to IOConsole.\n",
      "No default IOStream has been set, defaulting to IOConsole.\n"
     ]
    },
    {
     "name": "stdout",
     "output_type": "stream",
     "text": [
      "\u001b[33mUserProxy\u001b[0m (to csvloader):\n",
      "\n",
      "Can you load item_on_hold - Sheet1.csv for me? \n",
      "\n",
      "--------------------------------------------------------------------------------\n"
     ]
    },
    {
     "name": "stderr",
     "output_type": "stream",
     "text": [
      "No default IOStream has been set, defaulting to IOConsole.\n"
     ]
    },
    {
     "name": "stdout",
     "output_type": "stream",
     "text": [
      "\u001b[31m\n",
      ">>>>>>>> USING AUTO REPLY...\u001b[0m\n"
     ]
    },
    {
     "name": "stderr",
     "output_type": "stream",
     "text": [
      "No default IOStream has been set, defaulting to IOConsole.\n",
      "No default IOStream has been set, defaulting to IOConsole.\n"
     ]
    },
    {
     "name": "stdout",
     "output_type": "stream",
     "text": [
      "\u001b[33mcsvloader\u001b[0m (to UserProxy):\n",
      "\n",
      "\u001b[32m***** Suggested tool call (call_8ow1O7aSLgFbrg3Nxaldyl6V): csv_loader *****\u001b[0m\n",
      "Arguments: \n",
      "{\n",
      "\"csv_file_name\": \"item_on_hold - Sheet1.csv\"\n",
      "}\n",
      "\u001b[32m***************************************************************************\u001b[0m\n",
      "\n",
      "--------------------------------------------------------------------------------\n"
     ]
    },
    {
     "name": "stderr",
     "output_type": "stream",
     "text": [
      "No default IOStream has been set, defaulting to IOConsole.\n",
      "No default IOStream has been set, defaulting to IOConsole.\n"
     ]
    },
    {
     "name": "stdout",
     "output_type": "stream",
     "text": [
      "\u001b[35m\n",
      ">>>>>>>> EXECUTING FUNCTION csv_loader...\u001b[0m\n"
     ]
    },
    {
     "name": "stderr",
     "output_type": "stream",
     "text": [
      "No default IOStream has been set, defaulting to IOConsole.\n"
     ]
    },
    {
     "name": "stdout",
     "output_type": "stream",
     "text": [
      "\u001b[33mUserProxy\u001b[0m (to csvloader):\n",
      "\n"
     ]
    },
    {
     "name": "stderr",
     "output_type": "stream",
     "text": [
      "No default IOStream has been set, defaulting to IOConsole.\n"
     ]
    },
    {
     "name": "stdout",
     "output_type": "stream",
     "text": [
      "\u001b[33mUserProxy\u001b[0m (to csvloader):\n",
      "\n",
      "\u001b[32m***** Response from calling tool (call_8ow1O7aSLgFbrg3Nxaldyl6V) *****\u001b[0m\n",
      "{\"item no\":{\"0\":\"a\",\"1\":\"b\",\"2\":\"c\"},\"Description\":{\"0\":\"ciggerates\",\"1\":\"honey\",\"2\":\"guns\"},\"sender\":{\"0\":\"one@send.com\",\"1\":null,\"2\":null},\"receiver\":{\"0\":\"one@receive.com\",\"1\":null,\"2\":null}}\n",
      "\u001b[32m**********************************************************************\u001b[0m\n",
      "\n",
      "--------------------------------------------------------------------------------\n"
     ]
    },
    {
     "name": "stderr",
     "output_type": "stream",
     "text": [
      "No default IOStream has been set, defaulting to IOConsole.\n"
     ]
    },
    {
     "name": "stdout",
     "output_type": "stream",
     "text": [
      "\u001b[31m\n",
      ">>>>>>>> USING AUTO REPLY...\u001b[0m\n"
     ]
    },
    {
     "name": "stderr",
     "output_type": "stream",
     "text": [
      "No default IOStream has been set, defaulting to IOConsole.\n",
      "No default IOStream has been set, defaulting to IOConsole.\n"
     ]
    },
    {
     "name": "stdout",
     "output_type": "stream",
     "text": [
      "\u001b[33mcsvloader\u001b[0m (to UserProxy):\n",
      "\n",
      "Dear Customer,\n",
      "\n",
      "We hope this email finds you well.\n",
      "Unfortunately, Just a quick update regarding your shipment with item no \"a\" which includes Cigarettes that you were trying to import.\n",
      "\n",
      "Please be advised that according to our national customs regulations, importing Cigarettes is not allowed. We understand this might be disappointing, but we would like to assure you that these laws and regulations are in place to protect our citizens and economy.\n",
      "\n",
      "We value you as our customer and we would appreciate your understanding and cooperation on this matter. For further assistance, feel free to contact us at our customer care number.\n",
      "\n",
      "Best Regards\n",
      "\n",
      "[Your Name]\n",
      "\n",
      "---\n",
      "\n",
      "Dear Customer,\n",
      "\n",
      "I hope this message finds you well.\n",
      "\n",
      "We have a shipment on hold with item no \"b\" which contains honey. In order to proceed with the clearance process, we need additional information about this item, which includes the price, bill of sale, country of origin. \n",
      "\n",
      "Once you can provide these, we'll be able to move forward in releasing your shipment. If you have any questions or need further help, please don't hesitate to call our customer service number.\n",
      "\n",
      "Best Regards,\n",
      "\n",
      "[Your Name]\n",
      "\n",
      "---\n",
      "\n",
      "Dear Customer,\n",
      "\n",
      "We regret to inform you that your shipment with an item no \"c\" which includes guns is not allowed to be imported. According to our national customs regulations, importation of such items is strictly prohibited.\n",
      "\n",
      "We understand this might be disappointing but, these laws and regulations are in place for safety and security reasons. We highly appreciate your understanding and cooperation on this matter. If you need further assistance, please do not hesitate to contact our customer care hotline.\n",
      "\n",
      "Best Regards,\n",
      "\n",
      "[Your Name] \n",
      "\n",
      "TERMINATE\n",
      "\n",
      "--------------------------------------------------------------------------------\n"
     ]
    },
    {
     "name": "stderr",
     "output_type": "stream",
     "text": [
      "No default IOStream has been set, defaulting to IOConsole.\n",
      "No default IOStream has been set, defaulting to IOConsole.\n"
     ]
    }
   ],
   "source": [
    "import os\n",
    "from typing_extensions import Annotated\n",
    "from autogen import ConversableAgent, register_function\n",
    "from dotenv import load_dotenv\n",
    "import pandas\n",
    "current_directory = os.getcwd()\n",
    "\n",
    "load_dotenv()\n",
    "def get_csv_data(csv_file_name: Annotated[str, \"The name of the csv to read\"]) -> Annotated[str, \"csv content\"]:\n",
    "    file_path = os.path.join(current_directory, csv_file_name)\n",
    "    csvFile = pandas.read_csv(file_path).to_json()\n",
    "    return csvFile\n",
    "    \n",
    "openai_api_key = os.getenv(\"OPENAI_API_KEY\") \n",
    "config_list = [{\"model\": \"gpt-4\", \"api_key\": openai_api_key}]\n",
    "\n",
    "csv_loader = ConversableAgent(\n",
    "    \"csvloader\",\n",
    "    llm_config={\"config_list\": config_list},\n",
    "    system_message=\"You are a csv loader agent\"\n",
    "    \"Returns 'TERMINATE' when the csv loading is done.\",\n",
    ")\n",
    "user_proxy_agent = ConversableAgent(\n",
    "    \"UserProxy\",\n",
    "    llm_config=False,  # No LLM for this agent.\n",
    "    human_input_mode=\"NEVER\",\n",
    "    code_execution_config=False,  # No code execution for this agent.\n",
    "    is_termination_msg=lambda x: x.get(\"content\", \"\") is not None and \"terminate\" in x[\"content\"].lower(),\n",
    "    default_auto_reply=\"Please continue if not finished, otherwise return 'TERMINATE'.\",\n",
    ")\n",
    "\n",
    "register_function(\n",
    "    get_csv_data,\n",
    "    caller=csv_loader,\n",
    "    executor=user_proxy_agent,\n",
    "    name=\"csv_loader\",\n",
    "    description=\"\"\"Scrape the google sheet and return the content.\n",
    "    Then for each item as a Customs Broker, Your job is to generate separate emails that can be sent to customers stating the next steps required to clear the shipment item or items.\n",
    "\n",
    "         The email should contain one or more of the following.\n",
    "          1. If the item/s cannot be imported beacause of custom rules, please state those rules and politely mention the item cannot be imported.\n",
    "          2. If the item/s can be imported but needs more info such as Price, bill of sale, cuntry of origin or list of ingredients, please craft the email to list all the \n",
    "              required info from the customer.\n",
    "          3. The email should include the customer care number so that the customer cn call.\n",
    "    \"\"\",\n",
    ")\n",
    "\n",
    "chat_result = user_proxy_agent.initiate_chat(\n",
    "    csv_loader,\n",
    "    message=\"Can you load item_on_hold - Sheet1.csv for me? \",\n",
    "    summary_method=\"reflection_with_llm\",\n",
    ")  "
   ]
  },
  {
   "cell_type": "code",
   "execution_count": null,
   "id": "e235024c-7441-4b91-9b8a-cefd14436c47",
   "metadata": {},
   "outputs": [],
   "source": []
  }
 ],
 "metadata": {
  "kernelspec": {
   "display_name": "Python 3 (ipykernel)",
   "language": "python",
   "name": "python3"
  },
  "language_info": {
   "codemirror_mode": {
    "name": "ipython",
    "version": 3
   },
   "file_extension": ".py",
   "mimetype": "text/x-python",
   "name": "python",
   "nbconvert_exporter": "python",
   "pygments_lexer": "ipython3",
   "version": "3.12.2"
  }
 },
 "nbformat": 4,
 "nbformat_minor": 5
}
